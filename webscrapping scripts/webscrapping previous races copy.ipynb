{
 "cells": [
  {
   "cell_type": "code",
   "execution_count": 2,
   "metadata": {},
   "outputs": [],
   "source": [
    "#reference : https://www.zenrows.com/blog/dynamic-web-pages-scraping-python#selecting-elements\n",
    "from selenium import webdriver\n",
    "from webdriver_manager.chrome import ChromeDriverManager\n",
    "import pandas as pd\n",
    "import io\n"
   ]
  },
  {
   "cell_type": "code",
   "execution_count": 2,
   "metadata": {},
   "outputs": [],
   "source": [
    "#load trainers names\n",
    "\n",
    "trainers_names = pd.read_csv('data/trainers_premiership.csv')"
   ]
  },
  {
   "cell_type": "code",
   "execution_count": 6,
   "metadata": {},
   "outputs": [
    {
     "data": {
      "text/plain": [
       "'Mark-Walker-&-Sam-Bergerson'"
      ]
     },
     "execution_count": 6,
     "metadata": {},
     "output_type": "execute_result"
    }
   ],
   "source": [
    "'-'.join(trainers_names.Trainer[0].split('_'))"
   ]
  },
  {
   "cell_type": "code",
   "execution_count": 19,
   "metadata": {},
   "outputs": [],
   "source": [
    "\n",
    "driver = webdriver.Chrome(ChromeDriverManager().install())\n",
    "#url = 'https://www.racing.com/trainers/tony-pike-nz/form'\n",
    "url = 'https://www.racing.com/trainers/andrew-carston-nz/form'\n",
    "driver.get(url)\n"
   ]
  },
  {
   "cell_type": "code",
   "execution_count": 20,
   "metadata": {},
   "outputs": [
    {
     "data": {
      "text/plain": [
       "'404 Not Found - RACING.COM'"
      ]
     },
     "execution_count": 20,
     "metadata": {},
     "output_type": "execute_result"
    }
   ],
   "source": [
    "\n",
    "\n",
    "driver.title"
   ]
  },
  {
   "cell_type": "code",
   "execution_count": 13,
   "metadata": {},
   "outputs": [],
   "source": [
    "from selenium.webdriver.common.by import By\n",
    "aux = driver.find_elements(By.TAG_NAME, 'title')"
   ]
  },
  {
   "cell_type": "code",
   "execution_count": 16,
   "metadata": {},
   "outputs": [
    {
     "data": {
      "text/plain": [
       "<function list.sort(*, key=None, reverse=False)>"
      ]
     },
     "execution_count": 16,
     "metadata": {},
     "output_type": "execute_result"
    }
   ],
   "source": [
    "aux.sort"
   ]
  },
  {
   "cell_type": "code",
   "execution_count": 5,
   "metadata": {},
   "outputs": [
    {
     "data": {
      "text/plain": [
       "[\"POS\\nHORSE/TRAINER/JOCKEY\\nTRACK/DATE\\nDIST/COND\\nPRIZE/CLASS\\nWGT\\n800M/400M\\nMARGIN\\nRATING\\nODDS\\nCOM\\n7-18\\n14. Cheval D'or (NZ) (17)\\nT: \\nA.W.Pike\\n  J: \\nM.J.McNab\\nE FM R8\\n03 JUN 23\\n2200M\\nGood 4\\n$700K\\nG1 QLD OAKS\\n56.5kg\\n6th / 4th\\n6.49L\\n84\\n$15\\nSP\\n1-6\\nBabylon Berlin (6)\\nT: \\nA.W.Pike\\n  J: \\n - \\nTE R R3\\n04 MAR 23\\n1200M\\nGood 4\\n$93.1K\\nG3 KINGS PLATE\\n54kg\\n-\\n-\\n-\\n$1.1\\nSP\\n2-12\\nBabylon Berlin (9)\\nT: \\nA.W.Pike\\n  J: \\n - \\nTE R R8\\n11 FEB 23\\n1400M\\nGood 4\\n$279.3K\\nG1 BCD GRP SPRINT\\n57kg\\n-\\n4.5L\\n-\\n$8.5\\nSP\\n1-11\\nNot Guilty (NZ)\\nT: \\nA.W.Pike\\n  J: \\nM.J.McNab\\nTE R R3\\n11 FEB 23\\n1200M\\nGood\\n$46.5K\\nRATING 75\\n59kg\\n-\\n-\\n-\\n$3.5\\nSP\\n2-11\\nRuach (NZ)\\nT: \\nA.W.Pike\\n  J: \\nJ.K.Riddell\\nTE R R2\\n18 JAN 23\\n1500M\\nGood\\n$13K\\nRATING 75\\n58kg\\n-\\n0.2L\\n-\\n$7\\nSP\\n2-11\\nBabylon Berlin (8)\\nT: \\nA.W.Pike\\n  J: \\n - \\nTREN R8\\n14 JAN 23\\n1200M\\nGood 4\\n$325.8K\\nG1 TELEGRAPH\\n56.5kg\\n-\\n0.4L\\n-\\n$3.7\\nSP\\n2-10\\nBabylon Berlin (2)\\nT: \\nA.W.Pike\\n  J: \\n - \\nTE R R7\\n01 JAN 23\\n1200M\\nGood\\n$279.3K\\nG1 SIS RAILWAY\\n54kg\\n-\\n0.2L\\n-\\n$8.2\\nSP\\n2-10\\nBabylon Berlin (8)\\nT: \\nA.W.Pike\\n  J: \\nK.Hannan (anull)\\nPUKE R6\\n03 DEC 22\\n1200M\\nGood\\n$51.8K\\nHCP\\n56.5kg\\n-\\n1L\\n-\\n$3.7\\nSP\\n1-7\\nLetzbeglam\\nT: \\nA.W.Pike\\n  J: \\n - \\nPUKE R8\\n19 NOV 22\\n1100M\\nHeavy\\n$103.7K\\nG3 COUNTIES BOWL\\n53kg\\n-\\n-\\n-\\n$3.2\\nSP\\nLR\\nBabylon Berlin (6)\\nT: \\nA.W.Pike\\n  J: \\nJ.K.Riddell\\nPUKE R8\\n19 NOV 22\\n1100M\\nHeavy\\n$103.7K\\nG3 COUNTIES BOWL\\n60kg\\n-\\n-\\n-\\n$3.7\\nSP\\n13-14\\n2. Catalyst (NZ) (13)\\nT: \\nA.W.Pike\\n  J: \\nD.M.Lane\\nM V R7\\n03 SEP 22\\n1200M\\nSoft 6\\n$176K\\nListed CHAUTAUQUA\\n59kg\\n14th / 14th\\n7.1L\\n105\\n$41\\nSP\\n1-12\\nSurely Sacred (NZ)\\nT: \\nA.W.Pike\\n  J: \\nM.Chadwick (anull)\\nHVLY R1\\n13 JUL 22\\n1800M\\nGood\\n$277.1K\\nRATING 80\\n55.5kg\\n-\\n-\\n-\\n$17\\nSP\\n11-14\\n10. Letzbeglam (2)\\nT: \\nA.W.Pike\\n  J: \\nK.McEvoy\\nE FM R9\\n11 JUN 22\\n1300M\\nGood 4\\n$200K\\nG2 DANE RIPPER\\n55.5kg\\n6th / 5th\\n3.45L\\n85\\n$8.5\\nSP\\n9-11\\n9. Babylon Berlin (5)\\nT: \\nA.W.Pike\\n  J: \\nB.E.Thompson\\nE FM R8\\n04 JUN 22\\n1200M\\nGood 4\\n$250K\\nG2 MORETON CUP\\n54.5kg\\n4th / 3rd\\n6.6L\\n100\\n$6.5\\nSP\\n5-11\\n11. Letzbeglam (4)\\nT: \\nA.W.Pike\\n  J: \\nC.J.Grylls\\nE FM R8\\n04 JUN 22\\n1200M\\nGood 4\\n$250K\\nG2 MORETON CUP\\n53kg\\n9th / 9th\\n3.4L\\n83\\n$8\\nSP\\n2-8\\n5. Bentayga (NZ) (7)\\nT: \\nA.W.Pike\\n  J: \\nK.Wilson-Taylor\\nDOOM R5\\n01 JUN 22\\n1640M\\nSoft 5\\n$35K\\nCL5\\n54.5kg\\n2nd / 1st\\n0.75L\\n69\\n$10\\nSP\\n13-18\\n1. Tutukaka (NZ) (8)\\nT: \\nA.W.Pike\\n  J: \\nJ.M.Orman\\nE FM R8\\n28 MAY 22\\n2400M\\nGood 4\\n$1M\\nG1 QLD DERBY\\n57kg\\n3rd / 6th\\n14L\\n80\\n$18\\nSP\\n10-11\\n7. Khufu (2)\\nT: \\nA.W.Pike\\n  J: \\nB.E.Thompson\\nSCPT R8\\n22 MAY 22\\n1100M\\nSynth\\n$24K\\nBM62\\n58.5kg\\n1st / 1st\\n6L\\n62\\n$3.8\\nSP\\n6-10\\n5. Bentayga (NZ) (1)\\nT: \\nA.W.Pike\\n  J: \\nJ.P.Byrne\\nSCPT R8\\n18 MAY 22\\n1600M\\nSynth\\n$35K\\nBM70\\n59kg\\n6th / 3rd\\n4.7L\\n70\\n$4.6\\nSP\\n4-8\\n1. Rudyard (NZ) (5)\\nT: \\nA.W.Pike\\n  J: \\nL.G.Innes\\nSCPT R6\\n18 MAY 22\\n1400M\\nSynth\\n$50K\\n2Y HCP\\n58.5kg\\n8th / 8th\\n4.4L\\n-\\n$5\\nSP\\n10-16\\n10. Slipper Island (10)\\nT: \\nA.W.Pike\\n  J: \\nL.G.Innes\\nE FM R5\\n14 MAY 22\\n1200M\\nSoft 6\\n$250K\\nG2 CHAMPAGNE CLSS\\n57kg\\n11th / 12th\\n8.55L\\n-\\n$19\\nSP\\n12-15\\n1. Babylon Berlin (10)\\nT: \\nA.W.Pike\\n  J: \\nJ.B.McDonald\\nE FM R6\\n14 MAY 22\\n1200M\\nSoft 7\\n$150K\\nListed BRIGHT SHADOW\\n59kg\\n10th / 11th\\n10.3L\\n100\\n$3.6\\nSP\\n3-15\\n21. Letzbeglam (13)\\nT: \\nA.W.Pike\\n  J: \\nL.G.Innes\\nE FM R6\\n14 MAY 22\\n1200M\\nSoft 7\\n$150K\\nListed BRIGHT SHADOW\\n54kg\\n8th / 4th\\n1.15L\\n78\\n$21\\nSP\\n7-14\\n2. Tutukaka (NZ) (9)\\nT: \\nA.W.Pike\\n  J: \\nN.Rawiller\\nE FM R7\\n14 MAY 22\\n2143M\\nHeavy 8\\n$250K\\nG3 ROUGH HABIT\\n57kg\\n14th / 13th\\n9L\\n80\\n$10\\nSP\\n14-14\\n13. Ruach (NZ) (1)\\nT: \\nA.W.Pike\\n  J: \\nO.P.Bosson\\nE FM R7\\n14 MAY 22\\n2143M\\nHeavy 8\\n$250K\\nG3 ROUGH HABIT\\n57kg\\n6th / 14th\\n89.35L\\n70\\n$18\\nSP\\n16-16\\n11. Dimaggio Joe (NZ) (16)\\nT: \\nA.W.Pike\\n  J: \\nN.Rawiller\\nE FM R5\\n14 MAY 22\\n1200M\\nSoft 6\\n$250K\\nG2 CHAMPAGNE CLSS\\n57kg\\n10th / 7th\\n13.35L\\n-\\n$16\\nSP\\n4-7\\n3. Not Guilty (NZ) (5)\\nT: \\nA.W.Pike\\n  J: \\nL.G.Innes\\nSCPT R7\\n11 MAY 22\\n1400M\\nSynth\\n$35K\\nCL1\\n58.5kg\\n1st / 2nd\\n2.7L\\n66\\n$2.35\\nSP\\n2-5\\nTutukaka (NZ) (4)\\nT: \\nA.W.Pike\\n  J: \\nL.G.Innes\\nAVON R5\\n25 APR 22\\n1400M\\nHeavy\\n$11.3K\\n3Y-SWP\\n58.5kg\\n-\\n0.8L\\n-\\n$1.3\\nSP\\n1-11\\nLebanese Trader (7)\\nT: \\nA.W.Pike\\n  J: \\nJ.Parkes\\nTREN R2\\n19 MAR 22\\n1400M\\nGood\\n$37.7K\\nMAAT\\n57.5kg\\n-\\n-\\n-\\n$9.3\\nSP\\n3-9\\nLebanese Trader (2)\\nT: \\nA.W.Pike\\n  J: \\nM.J.McNab\\nWGUI R3\\n24 FEB 22\\n1200M\\nSoft\\n$11.3K\\nRATING 65\\n58.5kg\\n-\\n1.9L\\n-\\n$3.6\\nSP\"]"
      ]
     },
     "execution_count": 5,
     "metadata": {},
     "output_type": "execute_result"
    }
   ],
   "source": [
    "\n",
    "from selenium.webdriver.common.by import By\n",
    "elements = driver.find_elements(By.TAG_NAME, 'table') \n",
    "trainers_form_races = [trainers_elements.text for trainers_elements in elements]\n",
    "#print(trainers_names)\n",
    "trainers_form_races\n"
   ]
  },
  {
   "cell_type": "markdown",
   "metadata": {},
   "source": [
    "we have the names of the trainers, now we can loop trough them, access the page of each and get their info, but before that, let's define the table making roadmap:\n",
    "\n",
    "- Split the Data: First, split the string into individual entries based on a unique pattern. In this case, it seems each entry starts with a position like \"7-18\".\n",
    "\n",
    "- Parse Each Entry: For each entry, further split the information into its respective columns. This might involve identifying specific patterns or separators in the text.\n",
    "\n",
    "- Create a Data Structure: Store the parsed data in a structured format like a list of dictionaries or a list of lists, which can then be easily converted into a DataFrame.\n",
    "\n",
    "- Convert to DataFrame: Use pandas to convert this structured data into a DataFrame for easier manipulation and analysis."
   ]
  },
  {
   "cell_type": "code",
   "execution_count": 8,
   "metadata": {},
   "outputs": [
    {
     "data": {
      "text/plain": [
       "96"
      ]
     },
     "execution_count": 8,
     "metadata": {},
     "output_type": "execute_result"
    }
   ],
   "source": [
    "trainers_form_races[0].find('-')"
   ]
  },
  {
   "cell_type": "markdown",
   "metadata": {},
   "source": [
    "Ready for a random knowledge? that number into parentheses after the horse's name is represents the barrier draw or gate for that horse. "
   ]
  },
  {
   "cell_type": "code",
   "execution_count": 29,
   "metadata": {},
   "outputs": [
    {
     "name": "stdout",
     "output_type": "stream",
     "text": [
      "   Position                       Horse   Trainer              Jockey  \\\n",
      "0      7-18   14. Cheval D'or (NZ) (17)  A.W.Pike           M.J.McNab   \n",
      "1       1-6          Babylon Berlin (6)  A.W.Pike                   -   \n",
      "2      2-12          Babylon Berlin (9)  A.W.Pike                   -   \n",
      "3      1-11             Not Guilty (NZ)  A.W.Pike           M.J.McNab   \n",
      "4      2-11                  Ruach (NZ)  A.W.Pike          .K.Riddell   \n",
      "5      2-11          Babylon Berlin (8)  A.W.Pike                   -   \n",
      "6      2-10          Babylon Berlin (2)  A.W.Pike                   -   \n",
      "7      2-10          Babylon Berlin (8)  A.W.Pike    K.Hannan (anull)   \n",
      "8       1-7                  Letzbeglam  A.W.Pike                   -   \n",
      "9     13-14       2. Catalyst (NZ) (13)  A.W.Pike            D.M.Lane   \n",
      "10     1-12          Surely Sacred (NZ)  A.W.Pike  M.Chadwick (anull)   \n",
      "11    11-14          10. Letzbeglam (2)  A.W.Pike            K.McEvoy   \n",
      "12     9-11       9. Babylon Berlin (5)  A.W.Pike        B.E.Thompson   \n",
      "13     5-11          11. Letzbeglam (4)  A.W.Pike          C.J.Grylls   \n",
      "14      2-8        5. Bentayga (NZ) (7)  A.W.Pike     K.Wilson-Taylor   \n",
      "15    13-18        1. Tutukaka (NZ) (8)  A.W.Pike            .M.Orman   \n",
      "16    10-11                7. Khufu (2)  A.W.Pike        B.E.Thompson   \n",
      "17     6-10        5. Bentayga (NZ) (1)  A.W.Pike            .P.Byrne   \n",
      "18      4-8         1. Rudyard (NZ) (5)  A.W.Pike           L.G.Innes   \n",
      "19    10-16     10. Slipper Island (10)  A.W.Pike           L.G.Innes   \n",
      "20    12-15      1. Babylon Berlin (10)  A.W.Pike         .B.McDonald   \n",
      "21     3-15         21. Letzbeglam (13)  A.W.Pike           L.G.Innes   \n",
      "22     7-14        2. Tutukaka (NZ) (9)  A.W.Pike          N.Rawiller   \n",
      "23    14-14          13. Ruach (NZ) (1)  A.W.Pike          O.P.Bosson   \n",
      "24    16-16  11. Dimaggio Joe (NZ) (16)  A.W.Pike          N.Rawiller   \n",
      "25      4-7      3. Not Guilty (NZ) (5)  A.W.Pike           L.G.Innes   \n",
      "26      2-5           Tutukaka (NZ) (4)  A.W.Pike           L.G.Innes   \n",
      "27     1-11         Lebanese Trader (7)  A.W.Pike             .Parkes   \n",
      "28      3-9         Lebanese Trader (2)  A.W.Pike           M.J.McNab   \n",
      "\n",
      "      Track       Date Distance Condition    Prize                 Class  \\\n",
      "0   E FM R8  03 JUN 23    2200M    Good 4    $700K           G1 QLD OAKS   \n",
      "1   TE R R3  04 MAR 23    1200M    Good 4   $93.1K        G3 KINGS PLATE   \n",
      "2   TE R R8  11 FEB 23    1400M    Good 4  $279.3K     G1 BCD GRP SPRINT   \n",
      "3   TE R R3  11 FEB 23    1200M      Good   $46.5K             RATING 75   \n",
      "4   TE R R2  18 JAN 23    1500M      Good     $13K             RATING 75   \n",
      "5   TREN R8  14 JAN 23    1200M    Good 4  $325.8K          G1 TELEGRAPH   \n",
      "6   TE R R7  01 JAN 23    1200M      Good  $279.3K        G1 SIS RAILWAY   \n",
      "7   PUKE R6  03 DEC 22    1200M      Good   $51.8K                   HCP   \n",
      "8   PUKE R8  19 NOV 22    1100M     Heavy  $103.7K      G3 COUNTIES BOWL   \n",
      "9    M V R7  03 SEP 22    1200M    Soft 6    $176K     Listed CHAUTAUQUA   \n",
      "10  HVLY R1  13 JUL 22    1800M      Good  $277.1K             RATING 80   \n",
      "11  E FM R9  11 JUN 22    1300M    Good 4    $200K        G2 DANE RIPPER   \n",
      "12  E FM R8  04 JUN 22    1200M    Good 4    $250K        G2 MORETON CUP   \n",
      "13  E FM R8  04 JUN 22    1200M    Good 4    $250K        G2 MORETON CUP   \n",
      "14  DOOM R5  01 JUN 22    1640M    Soft 5     $35K                   CL5   \n",
      "15  E FM R8  28 MAY 22    2400M    Good 4      $1M          G1 QLD DERBY   \n",
      "16  SCPT R8  22 MAY 22    1100M     Synth     $24K                  BM62   \n",
      "17  SCPT R8  18 MAY 22    1600M     Synth     $35K                  BM70   \n",
      "18  SCPT R6  18 MAY 22    1400M     Synth     $50K                2Y HCP   \n",
      "19  E FM R5  14 MAY 22    1200M    Soft 6    $250K     G2 CHAMPAGNE CLSS   \n",
      "20  E FM R6  14 MAY 22    1200M    Soft 7    $150K  Listed BRIGHT SHADOW   \n",
      "21  E FM R6  14 MAY 22    1200M    Soft 7    $150K  Listed BRIGHT SHADOW   \n",
      "22  E FM R7  14 MAY 22    2143M   Heavy 8    $250K        G3 ROUGH HABIT   \n",
      "23  E FM R7  14 MAY 22    2143M   Heavy 8    $250K        G3 ROUGH HABIT   \n",
      "24  E FM R5  14 MAY 22    1200M    Soft 6    $250K     G2 CHAMPAGNE CLSS   \n",
      "25  SCPT R7  11 MAY 22    1400M     Synth     $35K                   CL1   \n",
      "26  AVON R5  25 APR 22    1400M     Heavy   $11.3K                3Y-SWP   \n",
      "27  TREN R2  19 MAR 22    1400M      Good   $37.7K                  MAAT   \n",
      "28  WGUI R3  24 FEB 22    1200M      Soft   $11.3K             RATING 65   \n",
      "\n",
      "       WGT  Pos_800_400  Margin Rating   Odds  \n",
      "0   56.5kg    6th / 4th   6.49L     84    $15  \n",
      "1     54kg            -       -      -   $1.1  \n",
      "2     57kg            -    4.5L      -   $8.5  \n",
      "3     59kg            -       -      -   $3.5  \n",
      "4     58kg            -    0.2L      -     $7  \n",
      "5   56.5kg            -    0.4L      -   $3.7  \n",
      "6     54kg            -    0.2L      -   $8.2  \n",
      "7   56.5kg            -      1L      -   $3.7  \n",
      "8     53kg            -       -      -   $3.2  \n",
      "9     59kg  14th / 14th    7.1L    105    $41  \n",
      "10  55.5kg            -       -      -    $17  \n",
      "11  55.5kg    6th / 5th   3.45L     85   $8.5  \n",
      "12  54.5kg    4th / 3rd    6.6L    100   $6.5  \n",
      "13    53kg    9th / 9th    3.4L     83     $8  \n",
      "14  54.5kg    2nd / 1st   0.75L     69    $10  \n",
      "15    57kg    3rd / 6th     14L     80    $18  \n",
      "16  58.5kg    1st / 1st      6L     62   $3.8  \n",
      "17    59kg    6th / 3rd    4.7L     70   $4.6  \n",
      "18  58.5kg    8th / 8th    4.4L      -     $5  \n",
      "19    57kg  11th / 12th   8.55L      -    $19  \n",
      "20    59kg  10th / 11th   10.3L    100   $3.6  \n",
      "21    54kg    8th / 4th   1.15L     78    $21  \n",
      "22    57kg  14th / 13th      9L     80    $10  \n",
      "23    57kg   6th / 14th  89.35L     70    $18  \n",
      "24    57kg   10th / 7th  13.35L      -    $16  \n",
      "25  58.5kg    1st / 2nd    2.7L     66  $2.35  \n",
      "26  58.5kg            -    0.8L      -   $1.3  \n",
      "27  57.5kg            -       -      -   $9.3  \n",
      "28  58.5kg            -    1.9L      -   $3.6  \n"
     ]
    }
   ],
   "source": [
    "import pandas as pd\n",
    "import re\n",
    "\n",
    "# Example function to parse each entry\n",
    "def parse_entry(entry):\n",
    "    lines = entry.split('\\n')\n",
    "    return {\n",
    "        \"Position\": lines[0],\n",
    "        \"Horse\": lines[1],\n",
    "        \"Trainer\": lines[3].strip('T: '),\n",
    "        \"Jockey\": lines[5].strip('J: '),\n",
    "        \"Track\": lines[6],\n",
    "        \"Date\": lines[7],\n",
    "        \"Distance\": lines[8],\n",
    "        \"Condition\": lines[9],\n",
    "        \"Prize\":lines[10],\n",
    "        \"Class\":lines[11],\n",
    "        \"WGT\":lines[12],\n",
    "        \"Pos_800_400\":lines[13],\n",
    "        \"Margin\":lines[14],\n",
    "        \"Rating\":lines[15],\n",
    "        \"Odds\":lines[16]\n",
    "    }\n",
    "\n",
    "# Split the data into individual entries\n",
    "# Assuming each entry starts with a pattern like '7-18' followed by a horse name\n",
    "entries = re.split(r'\\n(?=\\d+-\\d+\\n)', trainers_form_races[0])[1:]  # [1:] to skip the header\n",
    "\n",
    "# Parse each entry\n",
    "parsed_data = [parse_entry(entry) for entry in entries]\n",
    "\n",
    "# Create DataFrame\n",
    "df = pd.DataFrame(parsed_data)\n",
    "\n",
    "print(df)\n"
   ]
  },
  {
   "cell_type": "code",
   "execution_count": 21,
   "metadata": {},
   "outputs": [],
   "source": [
    "df.to_csv('previous_races.csv',index=False)"
   ]
  }
 ],
 "metadata": {
  "kernelspec": {
   "display_name": "base",
   "language": "python",
   "name": "python3"
  },
  "language_info": {
   "codemirror_mode": {
    "name": "ipython",
    "version": 3
   },
   "file_extension": ".py",
   "mimetype": "text/x-python",
   "name": "python",
   "nbconvert_exporter": "python",
   "pygments_lexer": "ipython3",
   "version": "3.9.12"
  }
 },
 "nbformat": 4,
 "nbformat_minor": 2
}
